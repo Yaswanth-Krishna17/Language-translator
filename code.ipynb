{
 "cells": [
  {
   "cell_type": "code",
   "execution_count": null,
   "id": "7ffba8f8",
   "metadata": {},
   "outputs": [],
   "source": [
    "%pip install deep_translator"
   ]
  },
  {
   "cell_type": "code",
   "execution_count": null,
   "id": "567af7d3",
   "metadata": {},
   "outputs": [],
   "source": [
    "from deep_translator import GoogleTranslator\n",
    "\n",
    "# Create a dummy instance to get supported languages\n",
    "translator = GoogleTranslator(source='auto', target='en')\n",
    "lang_dict = translator.get_supported_languages(as_dict=True)\n",
    "\n",
    "# Reverse it: {code: language}\n",
    "code_to_lang = {code: lang.title() for lang, code in lang_dict.items()}\n",
    "\n",
    "# Print all available languages and their codes\n",
    "print(\"🌐 Supported Languages:\")\n",
    "for code, lang in code_to_lang.items():\n",
    "    print(f\"{code}: {lang}\")\n",
    "\n",
    "# Get user input\n",
    "text = input(\"\\nEnter text to translate: \")\n",
    "target_code = input(\"Enter target language code from the list above: \").strip().lower()\n",
    "\n",
    "# Validate and translate\n",
    "if target_code in code_to_lang:\n",
    "    try:\n",
    "        translated = GoogleTranslator(source='auto', target=target_code).translate(text)\n",
    "        print(f\"\\n✅ Translated to {code_to_lang[target_code]}: {translated}\")\n",
    "    except Exception as e:\n",
    "        print(f\"\\n❌ Error during translation: {e}\")\n",
    "else:\n",
    "    print(\"\\n❌ Invalid language code. Please choose from the list shown above.\")"
   ]
  }
 ],
 "metadata": {
  "kernelspec": {
   "display_name": "Python 3",
   "language": "python",
   "name": "python3"
  },
  "language_info": {
   "codemirror_mode": {
    "name": "ipython",
    "version": 3
   },
   "file_extension": ".py",
   "mimetype": "text/x-python",
   "name": "python",
   "nbconvert_exporter": "python",
   "pygments_lexer": "ipython3",
   "version": "3.11.5"
  }
 },
 "nbformat": 4,
 "nbformat_minor": 5
}
